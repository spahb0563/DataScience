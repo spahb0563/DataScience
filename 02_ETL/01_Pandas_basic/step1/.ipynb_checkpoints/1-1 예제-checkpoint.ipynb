{
 "cells": [
  {
   "cell_type": "markdown",
   "id": "5b008c95",
   "metadata": {},
   "source": [
    "첫번째 에디터 연습"
   ]
  },
  {
   "cell_type": "markdown",
   "id": "6c3282b0",
   "metadata": {},
   "source": [
    "# - 폰트 사이즈 연습"
   ]
  },
  {
   "cell_type": "code",
   "execution_count": null,
   "id": "64f3c023",
   "metadata": {},
   "outputs": [],
   "source": [
    "num1 = 100\n",
    "num2 = 100\n",
    "num1+num2"
   ]
  },
  {
   "cell_type": "code",
   "execution_count": 1,
   "id": "0f2f2048",
   "metadata": {},
   "outputs": [],
   "source": [
    "my_long_variable = 100"
   ]
  },
  {
   "cell_type": "code",
   "execution_count": null,
   "id": "c4ff8732",
   "metadata": {},
   "outputs": [],
   "source": [
    "#자동 완성은 Tab, 단 해당 변수가 실행되어 있어야 한다\n",
    "\n",
    "print(my_long_variable)"
   ]
  }
 ],
 "metadata": {
  "kernelspec": {
   "display_name": "Python 3 (ipykernel)",
   "language": "python",
   "name": "python3"
  },
  "language_info": {
   "codemirror_mode": {
    "name": "ipython",
    "version": 3
   },
   "file_extension": ".py",
   "mimetype": "text/x-python",
   "name": "python",
   "nbconvert_exporter": "python",
   "pygments_lexer": "ipython3",
   "version": "3.9.13"
  }
 },
 "nbformat": 4,
 "nbformat_minor": 5
}
