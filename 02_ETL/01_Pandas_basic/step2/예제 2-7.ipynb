{
 "cells": [
  {
   "cell_type": "code",
   "execution_count": 1,
   "id": "c51f4eb2",
   "metadata": {},
   "outputs": [],
   "source": [
    "import pandas as pd"
   ]
  },
  {
   "cell_type": "markdown",
   "id": "e77c1dde",
   "metadata": {},
   "source": [
    "## 예제 2-7 : 넘파이 모듈 이용해서 생성하기"
   ]
  },
  {
   "cell_type": "code",
   "execution_count": 2,
   "id": "f143995c",
   "metadata": {},
   "outputs": [],
   "source": [
    "import numpy as np\n",
    "import pandas as pd"
   ]
  },
  {
   "cell_type": "code",
   "execution_count": 4,
   "id": "3cb17b07",
   "metadata": {},
   "outputs": [],
   "source": [
    "s = pd.Series(np.random.randn(5))"
   ]
  },
  {
   "cell_type": "code",
   "execution_count": 6,
   "id": "dc920f88",
   "metadata": {},
   "outputs": [],
   "source": [
    "# randn method는 표준 정규분포 확률을 따르는 난수를 return\n",
    "# 표준정규분포란 평균을 0, 표준편차를 1인 정규분포를 의미"
   ]
  },
  {
   "cell_type": "code",
   "execution_count": 7,
   "id": "a7c7b3b4",
   "metadata": {},
   "outputs": [
    {
     "data": {
      "text/plain": [
       "0    0.539792\n",
       "1   -0.004019\n",
       "2    1.845660\n",
       "3    0.304432\n",
       "4    0.702407\n",
       "dtype: float64"
      ]
     },
     "execution_count": 7,
     "metadata": {},
     "output_type": "execute_result"
    }
   ],
   "source": [
    "s"
   ]
  },
  {
   "cell_type": "code",
   "execution_count": null,
   "id": "996f4470",
   "metadata": {},
   "outputs": [],
   "source": []
  }
 ],
 "metadata": {
  "kernelspec": {
   "display_name": "Python 3 (ipykernel)",
   "language": "python",
   "name": "python3"
  },
  "language_info": {
   "codemirror_mode": {
    "name": "ipython",
    "version": 3
   },
   "file_extension": ".py",
   "mimetype": "text/x-python",
   "name": "python",
   "nbconvert_exporter": "python",
   "pygments_lexer": "ipython3",
   "version": "3.9.13"
  }
 },
 "nbformat": 4,
 "nbformat_minor": 5
}
