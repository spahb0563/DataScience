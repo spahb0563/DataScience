{
 "cells": [
  {
   "cell_type": "markdown",
   "id": "bb09a212",
   "metadata": {},
   "source": [
    "## 문제1"
   ]
  },
  {
   "cell_type": "code",
   "execution_count": 1,
   "id": "86815e83",
   "metadata": {},
   "outputs": [],
   "source": [
    "# 다음 다이아몬드 관한 데이터 중 다이아 몬드의 컷팅이 Premium 이고 가격이 3000이상인 다이아몬드의 갯수를 구하여라"
   ]
  },
  {
   "cell_type": "code",
   "execution_count": 2,
   "id": "3b057b17",
   "metadata": {},
   "outputs": [],
   "source": [
    "import pandas as pd"
   ]
  },
  {
   "cell_type": "code",
   "execution_count": 8,
   "id": "b4f422f0",
   "metadata": {},
   "outputs": [],
   "source": [
    "import seaborn as sns"
   ]
  },
  {
   "cell_type": "code",
   "execution_count": 9,
   "id": "307a4445",
   "metadata": {},
   "outputs": [],
   "source": [
    "diamonds = sns.load_dataset('diamonds')"
   ]
  },
  {
   "cell_type": "code",
   "execution_count": 20,
   "id": "f9056504",
   "metadata": {},
   "outputs": [
    {
     "data": {
      "text/plain": [
       "7034"
      ]
     },
     "execution_count": 20,
     "metadata": {},
     "output_type": "execute_result"
    }
   ],
   "source": [
    "((diamonds['cut'] == 'Premium') & (diamonds['price'] > 3000)).sum()"
   ]
  },
  {
   "cell_type": "markdown",
   "id": "9ff6a859",
   "metadata": {},
   "source": [
    "## 문제2"
   ]
  },
  {
   "cell_type": "code",
   "execution_count": 21,
   "id": "5e9cc3b5",
   "metadata": {},
   "outputs": [],
   "source": [
    "# 3캐릿 이상 다이아몬드 중 가장 비싼 다이아몬드의 가격을 출력하라"
   ]
  },
  {
   "cell_type": "code",
   "execution_count": 49,
   "id": "124fa247",
   "metadata": {},
   "outputs": [],
   "source": [
    "price = diamonds.loc[(diamonds['carat'] >= 3.00), ['price']]"
   ]
  },
  {
   "cell_type": "code",
   "execution_count": 52,
   "id": "b16ee58e",
   "metadata": {},
   "outputs": [],
   "source": [
    "max_price = price.max()"
   ]
  },
  {
   "cell_type": "code",
   "execution_count": 53,
   "id": "1a698739",
   "metadata": {},
   "outputs": [
    {
     "data": {
      "text/plain": [
       "price    18710\n",
       "dtype: int64"
      ]
     },
     "execution_count": 53,
     "metadata": {},
     "output_type": "execute_result"
    }
   ],
   "source": [
    "max_price"
   ]
  }
 ],
 "metadata": {
  "kernelspec": {
   "display_name": "Python 3 (ipykernel)",
   "language": "python",
   "name": "python3"
  },
  "language_info": {
   "codemirror_mode": {
    "name": "ipython",
    "version": 3
   },
   "file_extension": ".py",
   "mimetype": "text/x-python",
   "name": "python",
   "nbconvert_exporter": "python",
   "pygments_lexer": "ipython3",
   "version": "3.9.13"
  }
 },
 "nbformat": 4,
 "nbformat_minor": 5
}
