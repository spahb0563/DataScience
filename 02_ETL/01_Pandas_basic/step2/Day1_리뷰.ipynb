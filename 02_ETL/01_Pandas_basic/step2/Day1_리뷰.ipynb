{
 "cells": [
  {
   "cell_type": "markdown",
   "id": "4a53d6ef",
   "metadata": {},
   "source": [
    "# 문제1"
   ]
  },
  {
   "cell_type": "code",
   "execution_count": 1,
   "id": "a97de665",
   "metadata": {},
   "outputs": [],
   "source": [
    "# 코드"
   ]
  },
  {
   "cell_type": "markdown",
   "id": "ad67f84e",
   "metadata": {},
   "source": [
    "# 문제2"
   ]
  },
  {
   "cell_type": "code",
   "execution_count": 1,
   "id": "25837489",
   "metadata": {},
   "outputs": [],
   "source": [
    "# 코드"
   ]
  }
 ],
 "metadata": {
  "kernelspec": {
   "display_name": "Python 3 (ipykernel)",
   "language": "python",
   "name": "python3"
  },
  "language_info": {
   "codemirror_mode": {
    "name": "ipython",
    "version": 3
   },
   "file_extension": ".py",
   "mimetype": "text/x-python",
   "name": "python",
   "nbconvert_exporter": "python",
   "pygments_lexer": "ipython3",
   "version": "3.9.13"
  }
 },
 "nbformat": 4,
 "nbformat_minor": 5
}
