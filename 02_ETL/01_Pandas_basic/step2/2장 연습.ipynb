{
 "cells": [
  {
   "cell_type": "code",
   "execution_count": 1,
   "id": "dfd58adc",
   "metadata": {},
   "outputs": [],
   "source": [
    "import pandas as pd"
   ]
  },
  {
   "cell_type": "markdown",
   "id": "f84b5d3e",
   "metadata": {},
   "source": [
    "## 예제 2-12 데이터를 읽어오기"
   ]
  },
  {
   "cell_type": "code",
   "execution_count": 3,
   "id": "71b345de",
   "metadata": {},
   "outputs": [],
   "source": [
    "ct = pd.read_csv(\"../data/2017_college_tuition.csv\",encoding='euc-kr')"
   ]
  },
  {
   "cell_type": "code",
   "execution_count": 4,
   "id": "9195a9a3",
   "metadata": {},
   "outputs": [
    {
     "data": {
      "text/html": [
       "<div>\n",
       "<style scoped>\n",
       "    .dataframe tbody tr th:only-of-type {\n",
       "        vertical-align: middle;\n",
       "    }\n",
       "\n",
       "    .dataframe tbody tr th {\n",
       "        vertical-align: top;\n",
       "    }\n",
       "\n",
       "    .dataframe thead th {\n",
       "        text-align: right;\n",
       "    }\n",
       "</style>\n",
       "<table border=\"1\" class=\"dataframe\">\n",
       "  <thead>\n",
       "    <tr style=\"text-align: right;\">\n",
       "      <th></th>\n",
       "      <th>학교명</th>\n",
       "      <th>설립구분</th>\n",
       "      <th>평균등록금</th>\n",
       "    </tr>\n",
       "  </thead>\n",
       "  <tbody>\n",
       "    <tr>\n",
       "      <th>0</th>\n",
       "      <td>강릉원주대학교</td>\n",
       "      <td>국공립</td>\n",
       "      <td>4262</td>\n",
       "    </tr>\n",
       "    <tr>\n",
       "      <th>1</th>\n",
       "      <td>강원대학교</td>\n",
       "      <td>국공립</td>\n",
       "      <td>4116</td>\n",
       "    </tr>\n",
       "    <tr>\n",
       "      <th>2</th>\n",
       "      <td>경남과학기술대학교</td>\n",
       "      <td>국공립</td>\n",
       "      <td>3771</td>\n",
       "    </tr>\n",
       "    <tr>\n",
       "      <th>3</th>\n",
       "      <td>경북대학교</td>\n",
       "      <td>국공립</td>\n",
       "      <td>4351</td>\n",
       "    </tr>\n",
       "    <tr>\n",
       "      <th>4</th>\n",
       "      <td>경상대학교</td>\n",
       "      <td>국공립</td>\n",
       "      <td>3967</td>\n",
       "    </tr>\n",
       "  </tbody>\n",
       "</table>\n",
       "</div>"
      ],
      "text/plain": [
       "         학교명 설립구분  평균등록금\n",
       "0    강릉원주대학교  국공립   4262\n",
       "1      강원대학교  국공립   4116\n",
       "2  경남과학기술대학교  국공립   3771\n",
       "3      경북대학교  국공립   4351\n",
       "4      경상대학교  국공립   3967"
      ]
     },
     "execution_count": 4,
     "metadata": {},
     "output_type": "execute_result"
    }
   ],
   "source": [
    "ct.head()"
   ]
  },
  {
   "cell_type": "code",
   "execution_count": 5,
   "id": "cec5bb55",
   "metadata": {},
   "outputs": [
    {
     "data": {
      "text/html": [
       "<div>\n",
       "<style scoped>\n",
       "    .dataframe tbody tr th:only-of-type {\n",
       "        vertical-align: middle;\n",
       "    }\n",
       "\n",
       "    .dataframe tbody tr th {\n",
       "        vertical-align: top;\n",
       "    }\n",
       "\n",
       "    .dataframe thead th {\n",
       "        text-align: right;\n",
       "    }\n",
       "</style>\n",
       "<table border=\"1\" class=\"dataframe\">\n",
       "  <thead>\n",
       "    <tr style=\"text-align: right;\">\n",
       "      <th></th>\n",
       "      <th>학교명</th>\n",
       "      <th>설립구분</th>\n",
       "      <th>평균등록금</th>\n",
       "    </tr>\n",
       "  </thead>\n",
       "  <tbody>\n",
       "    <tr>\n",
       "      <th>191</th>\n",
       "      <td>호남대학교</td>\n",
       "      <td>사립</td>\n",
       "      <td>6482</td>\n",
       "    </tr>\n",
       "    <tr>\n",
       "      <th>192</th>\n",
       "      <td>호남신학대학교</td>\n",
       "      <td>사립</td>\n",
       "      <td>6438</td>\n",
       "    </tr>\n",
       "    <tr>\n",
       "      <th>193</th>\n",
       "      <td>호서대학교</td>\n",
       "      <td>사립</td>\n",
       "      <td>7695</td>\n",
       "    </tr>\n",
       "    <tr>\n",
       "      <th>194</th>\n",
       "      <td>호원대학교</td>\n",
       "      <td>사립</td>\n",
       "      <td>6929</td>\n",
       "    </tr>\n",
       "    <tr>\n",
       "      <th>195</th>\n",
       "      <td>홍익대학교</td>\n",
       "      <td>사립</td>\n",
       "      <td>8297</td>\n",
       "    </tr>\n",
       "  </tbody>\n",
       "</table>\n",
       "</div>"
      ],
      "text/plain": [
       "         학교명 설립구분  평균등록금\n",
       "191    호남대학교   사립   6482\n",
       "192  호남신학대학교   사립   6438\n",
       "193    호서대학교   사립   7695\n",
       "194    호원대학교   사립   6929\n",
       "195    홍익대학교   사립   8297"
      ]
     },
     "execution_count": 5,
     "metadata": {},
     "output_type": "execute_result"
    }
   ],
   "source": [
    "ct.tail()"
   ]
  },
  {
   "cell_type": "code",
   "execution_count": 7,
   "id": "53370ed7",
   "metadata": {},
   "outputs": [
    {
     "data": {
      "text/plain": [
       "(196, 3)"
      ]
     },
     "execution_count": 7,
     "metadata": {},
     "output_type": "execute_result"
    }
   ],
   "source": [
    "ct.shape"
   ]
  },
  {
   "cell_type": "code",
   "execution_count": 8,
   "id": "8755cb46",
   "metadata": {},
   "outputs": [
    {
     "data": {
      "text/plain": [
       "Index(['학교명', '설립구분', '평균등록금'], dtype='object')"
      ]
     },
     "execution_count": 8,
     "metadata": {},
     "output_type": "execute_result"
    }
   ],
   "source": [
    "ct.columns"
   ]
  },
  {
   "cell_type": "markdown",
   "id": "55db6647",
   "metadata": {},
   "source": [
    "## 예제 2-13 대괄호를 이용한 일반 검색"
   ]
  },
  {
   "cell_type": "code",
   "execution_count": 9,
   "id": "d550a53b",
   "metadata": {},
   "outputs": [],
   "source": [
    "ct_ser = ct['학교명']"
   ]
  },
  {
   "cell_type": "code",
   "execution_count": 10,
   "id": "52c0598b",
   "metadata": {},
   "outputs": [
    {
     "data": {
      "text/plain": [
       "0      강릉원주대학교\n",
       "1        강원대학교\n",
       "2    경남과학기술대학교\n",
       "3        경북대학교\n",
       "4        경상대학교\n",
       "Name: 학교명, dtype: object"
      ]
     },
     "execution_count": 10,
     "metadata": {},
     "output_type": "execute_result"
    }
   ],
   "source": [
    "ct_ser.head()"
   ]
  },
  {
   "cell_type": "code",
   "execution_count": 11,
   "id": "4676067d",
   "metadata": {},
   "outputs": [
    {
     "data": {
      "text/plain": [
       "'강릉원주대학교'"
      ]
     },
     "execution_count": 11,
     "metadata": {},
     "output_type": "execute_result"
    }
   ],
   "source": [
    "ct_ser[0]"
   ]
  },
  {
   "cell_type": "code",
   "execution_count": 12,
   "id": "dbfe621c",
   "metadata": {},
   "outputs": [
    {
     "data": {
      "text/plain": [
       "'부산장신대학교'"
      ]
     },
     "execution_count": 12,
     "metadata": {},
     "output_type": "execute_result"
    }
   ],
   "source": [
    "ct_ser[100]"
   ]
  },
  {
   "cell_type": "code",
   "execution_count": 13,
   "id": "9c9172d6",
   "metadata": {},
   "outputs": [
    {
     "data": {
      "text/plain": [
       "'부산장신대학교'"
      ]
     },
     "execution_count": 13,
     "metadata": {},
     "output_type": "execute_result"
    }
   ],
   "source": [
    "ct_ser.__getitem__(100)"
   ]
  },
  {
   "cell_type": "code",
   "execution_count": 15,
   "id": "097bd955",
   "metadata": {},
   "outputs": [
    {
     "data": {
      "text/plain": [
       "0      강릉원주대학교\n",
       "1        강원대학교\n",
       "2    경남과학기술대학교\n",
       "3        경북대학교\n",
       "4        경상대학교\n",
       "Name: 학교명, dtype: object"
      ]
     },
     "execution_count": 15,
     "metadata": {},
     "output_type": "execute_result"
    }
   ],
   "source": [
    "ct.__getitem__('학교명').head()"
   ]
  },
  {
   "cell_type": "markdown",
   "id": "8834e814",
   "metadata": {},
   "source": [
    "## 예제 2-14 대괄호를 이용한 슬라이스 검색"
   ]
  },
  {
   "cell_type": "code",
   "execution_count": 16,
   "id": "4801a7e5",
   "metadata": {},
   "outputs": [
    {
     "data": {
      "text/plain": [
       "10      금오공과대학교\n",
       "11      대구교육대학교\n",
       "12        목포대학교\n",
       "13      목포해양대학교\n",
       "14        부경대학교\n",
       "15      부산교육대학교\n",
       "16        부산대학교\n",
       "17    서울과학기술대학교\n",
       "18      서울교육대학교\n",
       "19        서울대학교\n",
       "Name: 학교명, dtype: object"
      ]
     },
     "execution_count": 16,
     "metadata": {},
     "output_type": "execute_result"
    }
   ],
   "source": [
    "ct_ser[10:20]"
   ]
  },
  {
   "cell_type": "code",
   "execution_count": 17,
   "id": "0a978e55",
   "metadata": {},
   "outputs": [],
   "source": [
    "ct_slice = ct[10:20]"
   ]
  },
  {
   "cell_type": "code",
   "execution_count": 18,
   "id": "03ba3069",
   "metadata": {},
   "outputs": [
    {
     "data": {
      "text/html": [
       "<div>\n",
       "<style scoped>\n",
       "    .dataframe tbody tr th:only-of-type {\n",
       "        vertical-align: middle;\n",
       "    }\n",
       "\n",
       "    .dataframe tbody tr th {\n",
       "        vertical-align: top;\n",
       "    }\n",
       "\n",
       "    .dataframe thead th {\n",
       "        text-align: right;\n",
       "    }\n",
       "</style>\n",
       "<table border=\"1\" class=\"dataframe\">\n",
       "  <thead>\n",
       "    <tr style=\"text-align: right;\">\n",
       "      <th></th>\n",
       "      <th>학교명</th>\n",
       "      <th>설립구분</th>\n",
       "      <th>평균등록금</th>\n",
       "    </tr>\n",
       "  </thead>\n",
       "  <tbody>\n",
       "    <tr>\n",
       "      <th>10</th>\n",
       "      <td>금오공과대학교</td>\n",
       "      <td>국공립</td>\n",
       "      <td>3769</td>\n",
       "    </tr>\n",
       "    <tr>\n",
       "      <th>11</th>\n",
       "      <td>대구교육대학교</td>\n",
       "      <td>국공립</td>\n",
       "      <td>3604</td>\n",
       "    </tr>\n",
       "    <tr>\n",
       "      <th>12</th>\n",
       "      <td>목포대학교</td>\n",
       "      <td>국공립</td>\n",
       "      <td>3895</td>\n",
       "    </tr>\n",
       "    <tr>\n",
       "      <th>13</th>\n",
       "      <td>목포해양대학교</td>\n",
       "      <td>국공립</td>\n",
       "      <td>3424</td>\n",
       "    </tr>\n",
       "    <tr>\n",
       "      <th>14</th>\n",
       "      <td>부경대학교</td>\n",
       "      <td>국공립</td>\n",
       "      <td>4042</td>\n",
       "    </tr>\n",
       "    <tr>\n",
       "      <th>15</th>\n",
       "      <td>부산교육대학교</td>\n",
       "      <td>국공립</td>\n",
       "      <td>3024</td>\n",
       "    </tr>\n",
       "    <tr>\n",
       "      <th>16</th>\n",
       "      <td>부산대학교</td>\n",
       "      <td>국공립</td>\n",
       "      <td>4325</td>\n",
       "    </tr>\n",
       "    <tr>\n",
       "      <th>17</th>\n",
       "      <td>서울과학기술대학교</td>\n",
       "      <td>국공립</td>\n",
       "      <td>5405</td>\n",
       "    </tr>\n",
       "    <tr>\n",
       "      <th>18</th>\n",
       "      <td>서울교육대학교</td>\n",
       "      <td>국공립</td>\n",
       "      <td>3088</td>\n",
       "    </tr>\n",
       "    <tr>\n",
       "      <th>19</th>\n",
       "      <td>서울대학교</td>\n",
       "      <td>국공립</td>\n",
       "      <td>5962</td>\n",
       "    </tr>\n",
       "  </tbody>\n",
       "</table>\n",
       "</div>"
      ],
      "text/plain": [
       "          학교명 설립구분  평균등록금\n",
       "10    금오공과대학교  국공립   3769\n",
       "11    대구교육대학교  국공립   3604\n",
       "12      목포대학교  국공립   3895\n",
       "13    목포해양대학교  국공립   3424\n",
       "14      부경대학교  국공립   4042\n",
       "15    부산교육대학교  국공립   3024\n",
       "16      부산대학교  국공립   4325\n",
       "17  서울과학기술대학교  국공립   5405\n",
       "18    서울교육대학교  국공립   3088\n",
       "19      서울대학교  국공립   5962"
      ]
     },
     "execution_count": 18,
     "metadata": {},
     "output_type": "execute_result"
    }
   ],
   "source": [
    "ct_slice"
   ]
  },
  {
   "cell_type": "code",
   "execution_count": 19,
   "id": "61732ed7",
   "metadata": {},
   "outputs": [
    {
     "data": {
      "text/html": [
       "<div>\n",
       "<style scoped>\n",
       "    .dataframe tbody tr th:only-of-type {\n",
       "        vertical-align: middle;\n",
       "    }\n",
       "\n",
       "    .dataframe tbody tr th {\n",
       "        vertical-align: top;\n",
       "    }\n",
       "\n",
       "    .dataframe thead th {\n",
       "        text-align: right;\n",
       "    }\n",
       "</style>\n",
       "<table border=\"1\" class=\"dataframe\">\n",
       "  <thead>\n",
       "    <tr style=\"text-align: right;\">\n",
       "      <th></th>\n",
       "      <th>학교명</th>\n",
       "      <th>설립구분</th>\n",
       "      <th>평균등록금</th>\n",
       "    </tr>\n",
       "  </thead>\n",
       "  <tbody>\n",
       "    <tr>\n",
       "      <th>10</th>\n",
       "      <td>금오공과대학교</td>\n",
       "      <td>국공립</td>\n",
       "      <td>3769</td>\n",
       "    </tr>\n",
       "    <tr>\n",
       "      <th>11</th>\n",
       "      <td>대구교육대학교</td>\n",
       "      <td>국공립</td>\n",
       "      <td>3604</td>\n",
       "    </tr>\n",
       "    <tr>\n",
       "      <th>12</th>\n",
       "      <td>목포대학교</td>\n",
       "      <td>국공립</td>\n",
       "      <td>3895</td>\n",
       "    </tr>\n",
       "    <tr>\n",
       "      <th>13</th>\n",
       "      <td>목포해양대학교</td>\n",
       "      <td>국공립</td>\n",
       "      <td>3424</td>\n",
       "    </tr>\n",
       "    <tr>\n",
       "      <th>14</th>\n",
       "      <td>부경대학교</td>\n",
       "      <td>국공립</td>\n",
       "      <td>4042</td>\n",
       "    </tr>\n",
       "  </tbody>\n",
       "</table>\n",
       "</div>"
      ],
      "text/plain": [
       "        학교명 설립구분  평균등록금\n",
       "10  금오공과대학교  국공립   3769\n",
       "11  대구교육대학교  국공립   3604\n",
       "12    목포대학교  국공립   3895\n",
       "13  목포해양대학교  국공립   3424\n",
       "14    부경대학교  국공립   4042"
      ]
     },
     "execution_count": 19,
     "metadata": {},
     "output_type": "execute_result"
    }
   ],
   "source": [
    "ct_slice.head()"
   ]
  },
  {
   "cell_type": "code",
   "execution_count": 20,
   "id": "d02d98cf",
   "metadata": {},
   "outputs": [
    {
     "data": {
      "text/plain": [
       "(10, 3)"
      ]
     },
     "execution_count": 20,
     "metadata": {},
     "output_type": "execute_result"
    }
   ],
   "source": [
    "ct_slice.shape"
   ]
  },
  {
   "cell_type": "code",
   "execution_count": 21,
   "id": "dc33ded4",
   "metadata": {},
   "outputs": [
    {
     "data": {
      "text/html": [
       "<div>\n",
       "<style scoped>\n",
       "    .dataframe tbody tr th:only-of-type {\n",
       "        vertical-align: middle;\n",
       "    }\n",
       "\n",
       "    .dataframe tbody tr th {\n",
       "        vertical-align: top;\n",
       "    }\n",
       "\n",
       "    .dataframe thead th {\n",
       "        text-align: right;\n",
       "    }\n",
       "</style>\n",
       "<table border=\"1\" class=\"dataframe\">\n",
       "  <thead>\n",
       "    <tr style=\"text-align: right;\">\n",
       "      <th></th>\n",
       "      <th>학교명</th>\n",
       "      <th>설립구분</th>\n",
       "      <th>평균등록금</th>\n",
       "    </tr>\n",
       "  </thead>\n",
       "  <tbody>\n",
       "    <tr>\n",
       "      <th>10</th>\n",
       "      <td>금오공과대학교</td>\n",
       "      <td>국공립</td>\n",
       "      <td>3769</td>\n",
       "    </tr>\n",
       "    <tr>\n",
       "      <th>11</th>\n",
       "      <td>대구교육대학교</td>\n",
       "      <td>국공립</td>\n",
       "      <td>3604</td>\n",
       "    </tr>\n",
       "    <tr>\n",
       "      <th>12</th>\n",
       "      <td>목포대학교</td>\n",
       "      <td>국공립</td>\n",
       "      <td>3895</td>\n",
       "    </tr>\n",
       "    <tr>\n",
       "      <th>13</th>\n",
       "      <td>목포해양대학교</td>\n",
       "      <td>국공립</td>\n",
       "      <td>3424</td>\n",
       "    </tr>\n",
       "    <tr>\n",
       "      <th>14</th>\n",
       "      <td>부경대학교</td>\n",
       "      <td>국공립</td>\n",
       "      <td>4042</td>\n",
       "    </tr>\n",
       "  </tbody>\n",
       "</table>\n",
       "</div>"
      ],
      "text/plain": [
       "        학교명 설립구분  평균등록금\n",
       "10  금오공과대학교  국공립   3769\n",
       "11  대구교육대학교  국공립   3604\n",
       "12    목포대학교  국공립   3895\n",
       "13  목포해양대학교  국공립   3424\n",
       "14    부경대학교  국공립   4042"
      ]
     },
     "execution_count": 21,
     "metadata": {},
     "output_type": "execute_result"
    }
   ],
   "source": [
    "ct.__getitem__(slice(10,20)).head()"
   ]
  },
  {
   "cell_type": "markdown",
   "id": "8dcb1859",
   "metadata": {},
   "source": [
    "## 예제 2-15 논리식 검색"
   ]
  },
  {
   "cell_type": "code",
   "execution_count": 22,
   "id": "f9f200ff",
   "metadata": {},
   "outputs": [],
   "source": [
    "sat = pd.read_csv(\"../data/2014_korea_sat_scores.csv\",encoding='euc-kr').dropna(axis=1)"
   ]
  },
  {
   "cell_type": "code",
   "execution_count": 23,
   "id": "d8dd1e73",
   "metadata": {},
   "outputs": [
    {
     "data": {
      "text/plain": [
       "pandas.core.frame.DataFrame"
      ]
     },
     "execution_count": 23,
     "metadata": {},
     "output_type": "execute_result"
    }
   ],
   "source": [
    "type(sat)"
   ]
  },
  {
   "cell_type": "code",
   "execution_count": 24,
   "id": "ff813979",
   "metadata": {},
   "outputs": [
    {
     "data": {
      "text/html": [
       "<div>\n",
       "<style scoped>\n",
       "    .dataframe tbody tr th:only-of-type {\n",
       "        vertical-align: middle;\n",
       "    }\n",
       "\n",
       "    .dataframe tbody tr th {\n",
       "        vertical-align: top;\n",
       "    }\n",
       "\n",
       "    .dataframe thead th {\n",
       "        text-align: right;\n",
       "    }\n",
       "</style>\n",
       "<table border=\"1\" class=\"dataframe\">\n",
       "  <thead>\n",
       "    <tr style=\"text-align: right;\">\n",
       "      <th></th>\n",
       "      <th>등급</th>\n",
       "      <th>과목</th>\n",
       "      <th>구분점수</th>\n",
       "      <th>도수(명)</th>\n",
       "      <th>비율(%)</th>\n",
       "    </tr>\n",
       "  </thead>\n",
       "  <tbody>\n",
       "    <tr>\n",
       "      <th>0</th>\n",
       "      <td>1</td>\n",
       "      <td>국어 A형</td>\n",
       "      <td>128</td>\n",
       "      <td>13866</td>\n",
       "      <td>4.30</td>\n",
       "    </tr>\n",
       "    <tr>\n",
       "      <th>1</th>\n",
       "      <td>2</td>\n",
       "      <td>국어 A형</td>\n",
       "      <td>123</td>\n",
       "      <td>23599</td>\n",
       "      <td>7.32</td>\n",
       "    </tr>\n",
       "    <tr>\n",
       "      <th>2</th>\n",
       "      <td>3</td>\n",
       "      <td>국어 A형</td>\n",
       "      <td>116</td>\n",
       "      <td>42470</td>\n",
       "      <td>13.17</td>\n",
       "    </tr>\n",
       "    <tr>\n",
       "      <th>3</th>\n",
       "      <td>4</td>\n",
       "      <td>국어 A형</td>\n",
       "      <td>108</td>\n",
       "      <td>52640</td>\n",
       "      <td>16.32</td>\n",
       "    </tr>\n",
       "    <tr>\n",
       "      <th>4</th>\n",
       "      <td>5</td>\n",
       "      <td>국어 A형</td>\n",
       "      <td>97</td>\n",
       "      <td>63896</td>\n",
       "      <td>19.81</td>\n",
       "    </tr>\n",
       "  </tbody>\n",
       "</table>\n",
       "</div>"
      ],
      "text/plain": [
       "   등급     과목 구분점수  도수(명)  비율(%)\n",
       "0   1  국어 A형  128  13866   4.30\n",
       "1   2  국어 A형  123  23599   7.32\n",
       "2   3  국어 A형  116  42470  13.17\n",
       "3   4  국어 A형  108  52640  16.32\n",
       "4   5  국어 A형   97  63896  19.81"
      ]
     },
     "execution_count": 24,
     "metadata": {},
     "output_type": "execute_result"
    }
   ],
   "source": [
    "sat.head()"
   ]
  },
  {
   "cell_type": "code",
   "execution_count": 25,
   "id": "22dad8b7",
   "metadata": {},
   "outputs": [
    {
     "data": {
      "text/plain": [
       "(342, 5)"
      ]
     },
     "execution_count": 25,
     "metadata": {},
     "output_type": "execute_result"
    }
   ],
   "source": [
    "sat.shape"
   ]
  },
  {
   "cell_type": "code",
   "execution_count": 26,
   "id": "d92ddf3b",
   "metadata": {},
   "outputs": [
    {
     "data": {
      "text/plain": [
       "dtype('int64')"
      ]
     },
     "execution_count": 26,
     "metadata": {},
     "output_type": "execute_result"
    }
   ],
   "source": [
    "sat['도수(명)'].dtype"
   ]
  },
  {
   "cell_type": "code",
   "execution_count": 27,
   "id": "00b2746d",
   "metadata": {},
   "outputs": [],
   "source": [
    "import numpy as np"
   ]
  },
  {
   "cell_type": "code",
   "execution_count": 28,
   "id": "fae2d815",
   "metadata": {},
   "outputs": [
    {
     "data": {
      "text/plain": [
       "0      13866\n",
       "1      23599\n",
       "2      42470\n",
       "3      52640\n",
       "4      63896\n",
       "       ...  \n",
       "337     1324\n",
       "338     1075\n",
       "339      873\n",
       "340      233\n",
       "341      216\n",
       "Name: 도수(명), Length: 342, dtype: int64"
      ]
     },
     "execution_count": 28,
     "metadata": {},
     "output_type": "execute_result"
    }
   ],
   "source": [
    "sat['도수(명)']"
   ]
  },
  {
   "cell_type": "code",
   "execution_count": 29,
   "id": "23822773",
   "metadata": {},
   "outputs": [
    {
     "data": {
      "text/plain": [
       "pandas.core.series.Series"
      ]
     },
     "execution_count": 29,
     "metadata": {},
     "output_type": "execute_result"
    }
   ],
   "source": [
    "type(sat['도수(명)'])"
   ]
  },
  {
   "cell_type": "code",
   "execution_count": 31,
   "id": "f5d0af4c",
   "metadata": {},
   "outputs": [
    {
     "data": {
      "text/plain": [
       "0       True\n",
       "1      False\n",
       "2      False\n",
       "3      False\n",
       "4      False\n",
       "       ...  \n",
       "337     True\n",
       "338     True\n",
       "339     True\n",
       "340     True\n",
       "341     True\n",
       "Name: 도수(명), Length: 342, dtype: bool"
      ]
     },
     "execution_count": 31,
     "metadata": {},
     "output_type": "execute_result"
    }
   ],
   "source": [
    "(sat['도수(명)'] < 20000)"
   ]
  },
  {
   "cell_type": "code",
   "execution_count": 32,
   "id": "8bf11824",
   "metadata": {},
   "outputs": [],
   "source": [
    "# 위 논리식의 결과를 인덱스 검색에 넣으면 True인 행만 추출"
   ]
  },
  {
   "cell_type": "code",
   "execution_count": 33,
   "id": "43c73bc2",
   "metadata": {},
   "outputs": [
    {
     "data": {
      "text/html": [
       "<div>\n",
       "<style scoped>\n",
       "    .dataframe tbody tr th:only-of-type {\n",
       "        vertical-align: middle;\n",
       "    }\n",
       "\n",
       "    .dataframe tbody tr th {\n",
       "        vertical-align: top;\n",
       "    }\n",
       "\n",
       "    .dataframe thead th {\n",
       "        text-align: right;\n",
       "    }\n",
       "</style>\n",
       "<table border=\"1\" class=\"dataframe\">\n",
       "  <thead>\n",
       "    <tr style=\"text-align: right;\">\n",
       "      <th></th>\n",
       "      <th>등급</th>\n",
       "      <th>과목</th>\n",
       "      <th>구분점수</th>\n",
       "      <th>도수(명)</th>\n",
       "      <th>비율(%)</th>\n",
       "    </tr>\n",
       "  </thead>\n",
       "  <tbody>\n",
       "    <tr>\n",
       "      <th>0</th>\n",
       "      <td>1</td>\n",
       "      <td>국어 A형</td>\n",
       "      <td>128</td>\n",
       "      <td>13866</td>\n",
       "      <td>4.30</td>\n",
       "    </tr>\n",
       "    <tr>\n",
       "      <th>8</th>\n",
       "      <td>9</td>\n",
       "      <td>국어 A형</td>\n",
       "      <td>60미만</td>\n",
       "      <td>12554</td>\n",
       "      <td>3.89</td>\n",
       "    </tr>\n",
       "    <tr>\n",
       "      <th>9</th>\n",
       "      <td>1</td>\n",
       "      <td>국어 B형</td>\n",
       "      <td>127</td>\n",
       "      <td>12615</td>\n",
       "      <td>4.45</td>\n",
       "    </tr>\n",
       "    <tr>\n",
       "      <th>16</th>\n",
       "      <td>8</td>\n",
       "      <td>국어 B형</td>\n",
       "      <td>59</td>\n",
       "      <td>19943</td>\n",
       "      <td>7.03</td>\n",
       "    </tr>\n",
       "    <tr>\n",
       "      <th>17</th>\n",
       "      <td>9</td>\n",
       "      <td>국어 B형</td>\n",
       "      <td>59미만</td>\n",
       "      <td>10868</td>\n",
       "      <td>3.83</td>\n",
       "    </tr>\n",
       "    <tr>\n",
       "      <th>...</th>\n",
       "      <td>...</td>\n",
       "      <td>...</td>\n",
       "      <td>...</td>\n",
       "      <td>...</td>\n",
       "      <td>...</td>\n",
       "    </tr>\n",
       "    <tr>\n",
       "      <th>337</th>\n",
       "      <td>5</td>\n",
       "      <td>한문Ⅰ</td>\n",
       "      <td>45</td>\n",
       "      <td>1324</td>\n",
       "      <td>20.92</td>\n",
       "    </tr>\n",
       "    <tr>\n",
       "      <th>338</th>\n",
       "      <td>6</td>\n",
       "      <td>한문Ⅰ</td>\n",
       "      <td>42</td>\n",
       "      <td>1075</td>\n",
       "      <td>16.99</td>\n",
       "    </tr>\n",
       "    <tr>\n",
       "      <th>339</th>\n",
       "      <td>7</td>\n",
       "      <td>한문Ⅰ</td>\n",
       "      <td>39</td>\n",
       "      <td>873</td>\n",
       "      <td>13.79</td>\n",
       "    </tr>\n",
       "    <tr>\n",
       "      <th>340</th>\n",
       "      <td>8</td>\n",
       "      <td>한문Ⅰ</td>\n",
       "      <td>37</td>\n",
       "      <td>233</td>\n",
       "      <td>3.68</td>\n",
       "    </tr>\n",
       "    <tr>\n",
       "      <th>341</th>\n",
       "      <td>9</td>\n",
       "      <td>한문Ⅰ</td>\n",
       "      <td>37미만</td>\n",
       "      <td>216</td>\n",
       "      <td>3.41</td>\n",
       "    </tr>\n",
       "  </tbody>\n",
       "</table>\n",
       "<p>294 rows × 5 columns</p>\n",
       "</div>"
      ],
      "text/plain": [
       "     등급     과목  구분점수  도수(명)  비율(%)\n",
       "0     1  국어 A형   128  13866   4.30\n",
       "8     9  국어 A형  60미만  12554   3.89\n",
       "9     1  국어 B형   127  12615   4.45\n",
       "16    8  국어 B형    59  19943   7.03\n",
       "17    9  국어 B형  59미만  10868   3.83\n",
       "..   ..    ...   ...    ...    ...\n",
       "337   5    한문Ⅰ    45   1324  20.92\n",
       "338   6    한문Ⅰ    42   1075  16.99\n",
       "339   7    한문Ⅰ    39    873  13.79\n",
       "340   8    한문Ⅰ    37    233   3.68\n",
       "341   9    한문Ⅰ  37미만    216   3.41\n",
       "\n",
       "[294 rows x 5 columns]"
      ]
     },
     "execution_count": 33,
     "metadata": {},
     "output_type": "execute_result"
    }
   ],
   "source": [
    "sat[sat['도수(명)'] < 20000]"
   ]
  },
  {
   "cell_type": "markdown",
   "id": "827fb2e4",
   "metadata": {},
   "source": [
    "## 예제 2-16 다중 논리식 검색"
   ]
  },
  {
   "cell_type": "code",
   "execution_count": 34,
   "id": "ca979c0f",
   "metadata": {},
   "outputs": [],
   "source": [
    "l_sat = ((sat['도수(명)'] < 20000) & (sat['비율(%)'] <= 5.0))"
   ]
  },
  {
   "cell_type": "code",
   "execution_count": 35,
   "id": "56e77d20",
   "metadata": {},
   "outputs": [
    {
     "data": {
      "text/plain": [
       "(342,)"
      ]
     },
     "execution_count": 35,
     "metadata": {},
     "output_type": "execute_result"
    }
   ],
   "source": [
    "l_sat.shape"
   ]
  },
  {
   "cell_type": "code",
   "execution_count": 37,
   "id": "c84735fb",
   "metadata": {},
   "outputs": [
    {
     "data": {
      "text/plain": [
       "0       True\n",
       "1      False\n",
       "2      False\n",
       "3      False\n",
       "4      False\n",
       "       ...  \n",
       "337    False\n",
       "338    False\n",
       "339    False\n",
       "340     True\n",
       "341     True\n",
       "Length: 342, dtype: bool"
      ]
     },
     "execution_count": 37,
     "metadata": {},
     "output_type": "execute_result"
    }
   ],
   "source": [
    "l_sat"
   ]
  },
  {
   "cell_type": "code",
   "execution_count": null,
   "id": "c05cb8e0",
   "metadata": {},
   "outputs": [],
   "source": [
    "# True 갯수의 총합"
   ]
  },
  {
   "cell_type": "code",
   "execution_count": 38,
   "id": "b7453ef8",
   "metadata": {},
   "outputs": [
    {
     "data": {
      "text/plain": [
       "71"
      ]
     },
     "execution_count": 38,
     "metadata": {},
     "output_type": "execute_result"
    }
   ],
   "source": [
    "l_sat.sum()"
   ]
  },
  {
   "cell_type": "code",
   "execution_count": 39,
   "id": "6a6a9717",
   "metadata": {},
   "outputs": [],
   "source": [
    "sat_logic = sat[l_sat]"
   ]
  },
  {
   "cell_type": "code",
   "execution_count": 40,
   "id": "ba2f0cfb",
   "metadata": {},
   "outputs": [
    {
     "data": {
      "text/plain": [
       "(71, 5)"
      ]
     },
     "execution_count": 40,
     "metadata": {},
     "output_type": "execute_result"
    }
   ],
   "source": [
    "sat_logic.shape"
   ]
  },
  {
   "cell_type": "code",
   "execution_count": 41,
   "id": "7bda8e16",
   "metadata": {},
   "outputs": [
    {
     "data": {
      "text/html": [
       "<div>\n",
       "<style scoped>\n",
       "    .dataframe tbody tr th:only-of-type {\n",
       "        vertical-align: middle;\n",
       "    }\n",
       "\n",
       "    .dataframe tbody tr th {\n",
       "        vertical-align: top;\n",
       "    }\n",
       "\n",
       "    .dataframe thead th {\n",
       "        text-align: right;\n",
       "    }\n",
       "</style>\n",
       "<table border=\"1\" class=\"dataframe\">\n",
       "  <thead>\n",
       "    <tr style=\"text-align: right;\">\n",
       "      <th></th>\n",
       "      <th>등급</th>\n",
       "      <th>과목</th>\n",
       "      <th>구분점수</th>\n",
       "      <th>도수(명)</th>\n",
       "      <th>비율(%)</th>\n",
       "    </tr>\n",
       "  </thead>\n",
       "  <tbody>\n",
       "    <tr>\n",
       "      <th>0</th>\n",
       "      <td>1</td>\n",
       "      <td>국어 A형</td>\n",
       "      <td>128</td>\n",
       "      <td>13866</td>\n",
       "      <td>4.30</td>\n",
       "    </tr>\n",
       "    <tr>\n",
       "      <th>8</th>\n",
       "      <td>9</td>\n",
       "      <td>국어 A형</td>\n",
       "      <td>60미만</td>\n",
       "      <td>12554</td>\n",
       "      <td>3.89</td>\n",
       "    </tr>\n",
       "    <tr>\n",
       "      <th>9</th>\n",
       "      <td>1</td>\n",
       "      <td>국어 B형</td>\n",
       "      <td>127</td>\n",
       "      <td>12615</td>\n",
       "      <td>4.45</td>\n",
       "    </tr>\n",
       "    <tr>\n",
       "      <th>17</th>\n",
       "      <td>9</td>\n",
       "      <td>국어 B형</td>\n",
       "      <td>59미만</td>\n",
       "      <td>10868</td>\n",
       "      <td>3.83</td>\n",
       "    </tr>\n",
       "    <tr>\n",
       "      <th>18</th>\n",
       "      <td>1</td>\n",
       "      <td>수학 A형</td>\n",
       "      <td>137</td>\n",
       "      <td>19675</td>\n",
       "      <td>4.77</td>\n",
       "    </tr>\n",
       "    <tr>\n",
       "      <th>...</th>\n",
       "      <td>...</td>\n",
       "      <td>...</td>\n",
       "      <td>...</td>\n",
       "      <td>...</td>\n",
       "      <td>...</td>\n",
       "    </tr>\n",
       "    <tr>\n",
       "      <th>323</th>\n",
       "      <td>9</td>\n",
       "      <td>아랍어Ⅰ</td>\n",
       "      <td>41미만</td>\n",
       "      <td>322</td>\n",
       "      <td>3.23</td>\n",
       "    </tr>\n",
       "    <tr>\n",
       "      <th>324</th>\n",
       "      <td>1</td>\n",
       "      <td>기초 베트남어</td>\n",
       "      <td>81</td>\n",
       "      <td>953</td>\n",
       "      <td>4.17</td>\n",
       "    </tr>\n",
       "    <tr>\n",
       "      <th>332</th>\n",
       "      <td>9</td>\n",
       "      <td>기초 베트남어</td>\n",
       "      <td>40미만</td>\n",
       "      <td>630</td>\n",
       "      <td>2.76</td>\n",
       "    </tr>\n",
       "    <tr>\n",
       "      <th>340</th>\n",
       "      <td>8</td>\n",
       "      <td>한문Ⅰ</td>\n",
       "      <td>37</td>\n",
       "      <td>233</td>\n",
       "      <td>3.68</td>\n",
       "    </tr>\n",
       "    <tr>\n",
       "      <th>341</th>\n",
       "      <td>9</td>\n",
       "      <td>한문Ⅰ</td>\n",
       "      <td>37미만</td>\n",
       "      <td>216</td>\n",
       "      <td>3.41</td>\n",
       "    </tr>\n",
       "  </tbody>\n",
       "</table>\n",
       "<p>71 rows × 5 columns</p>\n",
       "</div>"
      ],
      "text/plain": [
       "     등급       과목  구분점수  도수(명)  비율(%)\n",
       "0     1    국어 A형   128  13866   4.30\n",
       "8     9    국어 A형  60미만  12554   3.89\n",
       "9     1    국어 B형   127  12615   4.45\n",
       "17    9    국어 B형  59미만  10868   3.83\n",
       "18    1    수학 A형   137  19675   4.77\n",
       "..   ..      ...   ...    ...    ...\n",
       "323   9     아랍어Ⅰ  41미만    322   3.23\n",
       "324   1  기초 베트남어    81    953   4.17\n",
       "332   9  기초 베트남어  40미만    630   2.76\n",
       "340   8      한문Ⅰ    37    233   3.68\n",
       "341   9      한문Ⅰ  37미만    216   3.41\n",
       "\n",
       "[71 rows x 5 columns]"
      ]
     },
     "execution_count": 41,
     "metadata": {},
     "output_type": "execute_result"
    }
   ],
   "source": [
    "sat_logic"
   ]
  },
  {
   "cell_type": "markdown",
   "id": "478187f3",
   "metadata": {},
   "source": [
    "## 예제 2-17 시리즈에 논리식 검색"
   ]
  },
  {
   "cell_type": "code",
   "execution_count": 42,
   "id": "1f68a649",
   "metadata": {},
   "outputs": [],
   "source": [
    "sat_ser = sat['도수(명)']"
   ]
  },
  {
   "cell_type": "code",
   "execution_count": 43,
   "id": "3dc3926e",
   "metadata": {
    "scrolled": true
   },
   "outputs": [
    {
     "data": {
      "text/plain": [
       "0      13866\n",
       "1      23599\n",
       "2      42470\n",
       "3      52640\n",
       "4      63896\n",
       "       ...  \n",
       "337     1324\n",
       "338     1075\n",
       "339      873\n",
       "340      233\n",
       "341      216\n",
       "Name: 도수(명), Length: 342, dtype: int64"
      ]
     },
     "execution_count": 43,
     "metadata": {},
     "output_type": "execute_result"
    }
   ],
   "source": [
    "sat_ser"
   ]
  },
  {
   "cell_type": "code",
   "execution_count": 44,
   "id": "31bf8ae3",
   "metadata": {},
   "outputs": [],
   "source": [
    "# 논리 검색은 시리즈에서도 DataFrame과 마찬가지로 적용된다."
   ]
  },
  {
   "cell_type": "code",
   "execution_count": 45,
   "id": "e8cc67ed",
   "metadata": {},
   "outputs": [
    {
     "data": {
      "text/plain": [
       "0      13866\n",
       "8      12554\n",
       "9      12615\n",
       "16     19943\n",
       "17     10868\n",
       "       ...  \n",
       "337     1324\n",
       "338     1075\n",
       "339      873\n",
       "340      233\n",
       "341      216\n",
       "Name: 도수(명), Length: 294, dtype: int64"
      ]
     },
     "execution_count": 45,
     "metadata": {},
     "output_type": "execute_result"
    }
   ],
   "source": [
    "sat_ser[sat_ser < 20000]"
   ]
  },
  {
   "cell_type": "code",
   "execution_count": 46,
   "id": "e4251d4d",
   "metadata": {},
   "outputs": [
    {
     "data": {
      "text/plain": [
       "(294,)"
      ]
     },
     "execution_count": 46,
     "metadata": {},
     "output_type": "execute_result"
    }
   ],
   "source": [
    "sat_ser[sat_ser < 20000].shape"
   ]
  },
  {
   "cell_type": "code",
   "execution_count": 47,
   "id": "83c9ad75",
   "metadata": {},
   "outputs": [
    {
     "data": {
      "text/plain": [
       "0     13866\n",
       "8     12554\n",
       "9     12615\n",
       "16    19943\n",
       "17    10868\n",
       "Name: 도수(명), dtype: int64"
      ]
     },
     "execution_count": 47,
     "metadata": {},
     "output_type": "execute_result"
    }
   ],
   "source": [
    "sat_ser[sat_ser < 20000].head()"
   ]
  },
  {
   "cell_type": "markdown",
   "id": "d591a49e",
   "metadata": {},
   "source": [
    "## 예제 2-18 데이터 프레임 팬시검색"
   ]
  },
  {
   "cell_type": "code",
   "execution_count": 48,
   "id": "978644fd",
   "metadata": {},
   "outputs": [],
   "source": [
    "#팬시 검색 : 특정 레이블을 직접 리스트에 넣어서 검색하는 방식"
   ]
  },
  {
   "cell_type": "code",
   "execution_count": 49,
   "id": "796046ea",
   "metadata": {},
   "outputs": [],
   "source": [
    "import seaborn as sns\n",
    "titanic = sns.load_dataset('titanic')"
   ]
  },
  {
   "cell_type": "code",
   "execution_count": 50,
   "id": "7f400af0",
   "metadata": {},
   "outputs": [
    {
     "data": {
      "text/html": [
       "<div>\n",
       "<style scoped>\n",
       "    .dataframe tbody tr th:only-of-type {\n",
       "        vertical-align: middle;\n",
       "    }\n",
       "\n",
       "    .dataframe tbody tr th {\n",
       "        vertical-align: top;\n",
       "    }\n",
       "\n",
       "    .dataframe thead th {\n",
       "        text-align: right;\n",
       "    }\n",
       "</style>\n",
       "<table border=\"1\" class=\"dataframe\">\n",
       "  <thead>\n",
       "    <tr style=\"text-align: right;\">\n",
       "      <th></th>\n",
       "      <th>survived</th>\n",
       "      <th>pclass</th>\n",
       "      <th>sex</th>\n",
       "      <th>age</th>\n",
       "      <th>sibsp</th>\n",
       "      <th>parch</th>\n",
       "      <th>fare</th>\n",
       "      <th>embarked</th>\n",
       "      <th>class</th>\n",
       "      <th>who</th>\n",
       "      <th>adult_male</th>\n",
       "      <th>deck</th>\n",
       "      <th>embark_town</th>\n",
       "      <th>alive</th>\n",
       "      <th>alone</th>\n",
       "    </tr>\n",
       "  </thead>\n",
       "  <tbody>\n",
       "    <tr>\n",
       "      <th>0</th>\n",
       "      <td>0</td>\n",
       "      <td>3</td>\n",
       "      <td>male</td>\n",
       "      <td>22.0</td>\n",
       "      <td>1</td>\n",
       "      <td>0</td>\n",
       "      <td>7.2500</td>\n",
       "      <td>S</td>\n",
       "      <td>Third</td>\n",
       "      <td>man</td>\n",
       "      <td>True</td>\n",
       "      <td>NaN</td>\n",
       "      <td>Southampton</td>\n",
       "      <td>no</td>\n",
       "      <td>False</td>\n",
       "    </tr>\n",
       "    <tr>\n",
       "      <th>1</th>\n",
       "      <td>1</td>\n",
       "      <td>1</td>\n",
       "      <td>female</td>\n",
       "      <td>38.0</td>\n",
       "      <td>1</td>\n",
       "      <td>0</td>\n",
       "      <td>71.2833</td>\n",
       "      <td>C</td>\n",
       "      <td>First</td>\n",
       "      <td>woman</td>\n",
       "      <td>False</td>\n",
       "      <td>C</td>\n",
       "      <td>Cherbourg</td>\n",
       "      <td>yes</td>\n",
       "      <td>False</td>\n",
       "    </tr>\n",
       "    <tr>\n",
       "      <th>2</th>\n",
       "      <td>1</td>\n",
       "      <td>3</td>\n",
       "      <td>female</td>\n",
       "      <td>26.0</td>\n",
       "      <td>0</td>\n",
       "      <td>0</td>\n",
       "      <td>7.9250</td>\n",
       "      <td>S</td>\n",
       "      <td>Third</td>\n",
       "      <td>woman</td>\n",
       "      <td>False</td>\n",
       "      <td>NaN</td>\n",
       "      <td>Southampton</td>\n",
       "      <td>yes</td>\n",
       "      <td>True</td>\n",
       "    </tr>\n",
       "    <tr>\n",
       "      <th>3</th>\n",
       "      <td>1</td>\n",
       "      <td>1</td>\n",
       "      <td>female</td>\n",
       "      <td>35.0</td>\n",
       "      <td>1</td>\n",
       "      <td>0</td>\n",
       "      <td>53.1000</td>\n",
       "      <td>S</td>\n",
       "      <td>First</td>\n",
       "      <td>woman</td>\n",
       "      <td>False</td>\n",
       "      <td>C</td>\n",
       "      <td>Southampton</td>\n",
       "      <td>yes</td>\n",
       "      <td>False</td>\n",
       "    </tr>\n",
       "    <tr>\n",
       "      <th>4</th>\n",
       "      <td>0</td>\n",
       "      <td>3</td>\n",
       "      <td>male</td>\n",
       "      <td>35.0</td>\n",
       "      <td>0</td>\n",
       "      <td>0</td>\n",
       "      <td>8.0500</td>\n",
       "      <td>S</td>\n",
       "      <td>Third</td>\n",
       "      <td>man</td>\n",
       "      <td>True</td>\n",
       "      <td>NaN</td>\n",
       "      <td>Southampton</td>\n",
       "      <td>no</td>\n",
       "      <td>True</td>\n",
       "    </tr>\n",
       "  </tbody>\n",
       "</table>\n",
       "</div>"
      ],
      "text/plain": [
       "   survived  pclass     sex   age  sibsp  parch     fare embarked  class  \\\n",
       "0         0       3    male  22.0      1      0   7.2500        S  Third   \n",
       "1         1       1  female  38.0      1      0  71.2833        C  First   \n",
       "2         1       3  female  26.0      0      0   7.9250        S  Third   \n",
       "3         1       1  female  35.0      1      0  53.1000        S  First   \n",
       "4         0       3    male  35.0      0      0   8.0500        S  Third   \n",
       "\n",
       "     who  adult_male deck  embark_town alive  alone  \n",
       "0    man        True  NaN  Southampton    no  False  \n",
       "1  woman       False    C    Cherbourg   yes  False  \n",
       "2  woman       False  NaN  Southampton   yes   True  \n",
       "3  woman       False    C  Southampton   yes  False  \n",
       "4    man        True  NaN  Southampton    no   True  "
      ]
     },
     "execution_count": 50,
     "metadata": {},
     "output_type": "execute_result"
    }
   ],
   "source": [
    "titanic.head()"
   ]
  },
  {
   "cell_type": "code",
   "execution_count": 51,
   "id": "634c4802",
   "metadata": {},
   "outputs": [
    {
     "data": {
      "text/plain": [
       "Index(['survived', 'pclass', 'sex', 'age', 'sibsp', 'parch', 'fare',\n",
       "       'embarked', 'class', 'who', 'adult_male', 'deck', 'embark_town',\n",
       "       'alive', 'alone'],\n",
       "      dtype='object')"
      ]
     },
     "execution_count": 51,
     "metadata": {},
     "output_type": "execute_result"
    }
   ],
   "source": [
    "titanic.columns"
   ]
  },
  {
   "cell_type": "code",
   "execution_count": 52,
   "id": "65af6dd3",
   "metadata": {},
   "outputs": [],
   "source": [
    "# 필터링하고 싶은 열을 직접 리스트에 입력"
   ]
  },
  {
   "cell_type": "code",
   "execution_count": 53,
   "id": "98e3d6c7",
   "metadata": {},
   "outputs": [
    {
     "data": {
      "text/html": [
       "<div>\n",
       "<style scoped>\n",
       "    .dataframe tbody tr th:only-of-type {\n",
       "        vertical-align: middle;\n",
       "    }\n",
       "\n",
       "    .dataframe tbody tr th {\n",
       "        vertical-align: top;\n",
       "    }\n",
       "\n",
       "    .dataframe thead th {\n",
       "        text-align: right;\n",
       "    }\n",
       "</style>\n",
       "<table border=\"1\" class=\"dataframe\">\n",
       "  <thead>\n",
       "    <tr style=\"text-align: right;\">\n",
       "      <th></th>\n",
       "      <th>age</th>\n",
       "      <th>sex</th>\n",
       "      <th>alive</th>\n",
       "    </tr>\n",
       "  </thead>\n",
       "  <tbody>\n",
       "    <tr>\n",
       "      <th>0</th>\n",
       "      <td>22.0</td>\n",
       "      <td>male</td>\n",
       "      <td>no</td>\n",
       "    </tr>\n",
       "    <tr>\n",
       "      <th>1</th>\n",
       "      <td>38.0</td>\n",
       "      <td>female</td>\n",
       "      <td>yes</td>\n",
       "    </tr>\n",
       "    <tr>\n",
       "      <th>2</th>\n",
       "      <td>26.0</td>\n",
       "      <td>female</td>\n",
       "      <td>yes</td>\n",
       "    </tr>\n",
       "    <tr>\n",
       "      <th>3</th>\n",
       "      <td>35.0</td>\n",
       "      <td>female</td>\n",
       "      <td>yes</td>\n",
       "    </tr>\n",
       "    <tr>\n",
       "      <th>4</th>\n",
       "      <td>35.0</td>\n",
       "      <td>male</td>\n",
       "      <td>no</td>\n",
       "    </tr>\n",
       "  </tbody>\n",
       "</table>\n",
       "</div>"
      ],
      "text/plain": [
       "    age     sex alive\n",
       "0  22.0    male    no\n",
       "1  38.0  female   yes\n",
       "2  26.0  female   yes\n",
       "3  35.0  female   yes\n",
       "4  35.0    male    no"
      ]
     },
     "execution_count": 53,
     "metadata": {},
     "output_type": "execute_result"
    }
   ],
   "source": [
    "titanic[['age', 'sex', 'alive']].head()"
   ]
  },
  {
   "cell_type": "code",
   "execution_count": 54,
   "id": "620f8908",
   "metadata": {},
   "outputs": [
    {
     "data": {
      "text/plain": [
       "age      177\n",
       "sex        0\n",
       "alive      0\n",
       "dtype: int64"
      ]
     },
     "execution_count": 54,
     "metadata": {},
     "output_type": "execute_result"
    }
   ],
   "source": [
    "titanic[['age', 'sex', 'alive']].isnull().sum()"
   ]
  },
  {
   "cell_type": "code",
   "execution_count": 55,
   "id": "57db039a",
   "metadata": {},
   "outputs": [],
   "source": [
    "# 팬시 검색을 하면 하나의 열도 데이터 프레임으로 반환"
   ]
  },
  {
   "cell_type": "code",
   "execution_count": 56,
   "id": "64687586",
   "metadata": {},
   "outputs": [
    {
     "data": {
      "text/html": [
       "<div>\n",
       "<style scoped>\n",
       "    .dataframe tbody tr th:only-of-type {\n",
       "        vertical-align: middle;\n",
       "    }\n",
       "\n",
       "    .dataframe tbody tr th {\n",
       "        vertical-align: top;\n",
       "    }\n",
       "\n",
       "    .dataframe thead th {\n",
       "        text-align: right;\n",
       "    }\n",
       "</style>\n",
       "<table border=\"1\" class=\"dataframe\">\n",
       "  <thead>\n",
       "    <tr style=\"text-align: right;\">\n",
       "      <th></th>\n",
       "      <th>age</th>\n",
       "    </tr>\n",
       "  </thead>\n",
       "  <tbody>\n",
       "    <tr>\n",
       "      <th>0</th>\n",
       "      <td>22.0</td>\n",
       "    </tr>\n",
       "    <tr>\n",
       "      <th>1</th>\n",
       "      <td>38.0</td>\n",
       "    </tr>\n",
       "    <tr>\n",
       "      <th>2</th>\n",
       "      <td>26.0</td>\n",
       "    </tr>\n",
       "    <tr>\n",
       "      <th>3</th>\n",
       "      <td>35.0</td>\n",
       "    </tr>\n",
       "    <tr>\n",
       "      <th>4</th>\n",
       "      <td>35.0</td>\n",
       "    </tr>\n",
       "  </tbody>\n",
       "</table>\n",
       "</div>"
      ],
      "text/plain": [
       "    age\n",
       "0  22.0\n",
       "1  38.0\n",
       "2  26.0\n",
       "3  35.0\n",
       "4  35.0"
      ]
     },
     "execution_count": 56,
     "metadata": {},
     "output_type": "execute_result"
    }
   ],
   "source": [
    "titanic[['age']].head()"
   ]
  },
  {
   "cell_type": "code",
   "execution_count": 57,
   "id": "a7a18d32",
   "metadata": {},
   "outputs": [
    {
     "data": {
      "text/plain": [
       "0    22.0\n",
       "1    38.0\n",
       "2    26.0\n",
       "3    35.0\n",
       "4    35.0\n",
       "Name: age, dtype: float64"
      ]
     },
     "execution_count": 57,
     "metadata": {},
     "output_type": "execute_result"
    }
   ],
   "source": [
    "titanic['age'].head()"
   ]
  },
  {
   "cell_type": "code",
   "execution_count": 58,
   "id": "87b102d2",
   "metadata": {},
   "outputs": [],
   "source": [
    "# 검색에 열 문자열만 입력하면 시리즈로 반환"
   ]
  },
  {
   "cell_type": "code",
   "execution_count": 59,
   "id": "50b59f06",
   "metadata": {},
   "outputs": [
    {
     "data": {
      "text/plain": [
       "pandas.core.series.Series"
      ]
     },
     "execution_count": 59,
     "metadata": {},
     "output_type": "execute_result"
    }
   ],
   "source": [
    "type(titanic['age'])"
   ]
  },
  {
   "cell_type": "markdown",
   "id": "9fbcc8cf",
   "metadata": {},
   "source": [
    "## 예제 2-19 시리즈 팬시검색"
   ]
  },
  {
   "cell_type": "code",
   "execution_count": 60,
   "id": "90e235d2",
   "metadata": {},
   "outputs": [],
   "source": [
    "titanic_age = titanic['age']"
   ]
  },
  {
   "cell_type": "code",
   "execution_count": 61,
   "id": "0d9f7d56",
   "metadata": {},
   "outputs": [
    {
     "data": {
      "text/plain": [
       "0    22.0\n",
       "1    38.0\n",
       "2    26.0\n",
       "3    35.0\n",
       "4    35.0\n",
       "Name: age, dtype: float64"
      ]
     },
     "execution_count": 61,
     "metadata": {},
     "output_type": "execute_result"
    }
   ],
   "source": [
    "titanic_age.head()"
   ]
  },
  {
   "cell_type": "code",
   "execution_count": 62,
   "id": "76c91fcd",
   "metadata": {},
   "outputs": [
    {
     "data": {
      "text/plain": [
       "0    22.0\n",
       "3    35.0\n",
       "4    35.0\n",
       "Name: age, dtype: float64"
      ]
     },
     "execution_count": 62,
     "metadata": {},
     "output_type": "execute_result"
    }
   ],
   "source": [
    "titanic_age[[0,3,4]]"
   ]
  },
  {
   "cell_type": "markdown",
   "id": "ab11c0b5",
   "metadata": {},
   "source": [
    "## 예제 2-20 명시적 인덱서 검색"
   ]
  },
  {
   "cell_type": "code",
   "execution_count": 63,
   "id": "1ae770ae",
   "metadata": {},
   "outputs": [],
   "source": [
    "diamonds = sns.load_dataset('diamonds')"
   ]
  },
  {
   "cell_type": "code",
   "execution_count": 64,
   "id": "f57e0783",
   "metadata": {},
   "outputs": [
    {
     "data": {
      "text/html": [
       "<div>\n",
       "<style scoped>\n",
       "    .dataframe tbody tr th:only-of-type {\n",
       "        vertical-align: middle;\n",
       "    }\n",
       "\n",
       "    .dataframe tbody tr th {\n",
       "        vertical-align: top;\n",
       "    }\n",
       "\n",
       "    .dataframe thead th {\n",
       "        text-align: right;\n",
       "    }\n",
       "</style>\n",
       "<table border=\"1\" class=\"dataframe\">\n",
       "  <thead>\n",
       "    <tr style=\"text-align: right;\">\n",
       "      <th></th>\n",
       "      <th>carat</th>\n",
       "      <th>cut</th>\n",
       "      <th>color</th>\n",
       "      <th>clarity</th>\n",
       "      <th>depth</th>\n",
       "      <th>table</th>\n",
       "      <th>price</th>\n",
       "      <th>x</th>\n",
       "      <th>y</th>\n",
       "      <th>z</th>\n",
       "    </tr>\n",
       "  </thead>\n",
       "  <tbody>\n",
       "    <tr>\n",
       "      <th>0</th>\n",
       "      <td>0.23</td>\n",
       "      <td>Ideal</td>\n",
       "      <td>E</td>\n",
       "      <td>SI2</td>\n",
       "      <td>61.5</td>\n",
       "      <td>55.0</td>\n",
       "      <td>326</td>\n",
       "      <td>3.95</td>\n",
       "      <td>3.98</td>\n",
       "      <td>2.43</td>\n",
       "    </tr>\n",
       "    <tr>\n",
       "      <th>1</th>\n",
       "      <td>0.21</td>\n",
       "      <td>Premium</td>\n",
       "      <td>E</td>\n",
       "      <td>SI1</td>\n",
       "      <td>59.8</td>\n",
       "      <td>61.0</td>\n",
       "      <td>326</td>\n",
       "      <td>3.89</td>\n",
       "      <td>3.84</td>\n",
       "      <td>2.31</td>\n",
       "    </tr>\n",
       "    <tr>\n",
       "      <th>2</th>\n",
       "      <td>0.23</td>\n",
       "      <td>Good</td>\n",
       "      <td>E</td>\n",
       "      <td>VS1</td>\n",
       "      <td>56.9</td>\n",
       "      <td>65.0</td>\n",
       "      <td>327</td>\n",
       "      <td>4.05</td>\n",
       "      <td>4.07</td>\n",
       "      <td>2.31</td>\n",
       "    </tr>\n",
       "    <tr>\n",
       "      <th>3</th>\n",
       "      <td>0.29</td>\n",
       "      <td>Premium</td>\n",
       "      <td>I</td>\n",
       "      <td>VS2</td>\n",
       "      <td>62.4</td>\n",
       "      <td>58.0</td>\n",
       "      <td>334</td>\n",
       "      <td>4.20</td>\n",
       "      <td>4.23</td>\n",
       "      <td>2.63</td>\n",
       "    </tr>\n",
       "    <tr>\n",
       "      <th>4</th>\n",
       "      <td>0.31</td>\n",
       "      <td>Good</td>\n",
       "      <td>J</td>\n",
       "      <td>SI2</td>\n",
       "      <td>63.3</td>\n",
       "      <td>58.0</td>\n",
       "      <td>335</td>\n",
       "      <td>4.34</td>\n",
       "      <td>4.35</td>\n",
       "      <td>2.75</td>\n",
       "    </tr>\n",
       "  </tbody>\n",
       "</table>\n",
       "</div>"
      ],
      "text/plain": [
       "   carat      cut color clarity  depth  table  price     x     y     z\n",
       "0   0.23    Ideal     E     SI2   61.5   55.0    326  3.95  3.98  2.43\n",
       "1   0.21  Premium     E     SI1   59.8   61.0    326  3.89  3.84  2.31\n",
       "2   0.23     Good     E     VS1   56.9   65.0    327  4.05  4.07  2.31\n",
       "3   0.29  Premium     I     VS2   62.4   58.0    334  4.20  4.23  2.63\n",
       "4   0.31     Good     J     SI2   63.3   58.0    335  4.34  4.35  2.75"
      ]
     },
     "execution_count": 64,
     "metadata": {},
     "output_type": "execute_result"
    }
   ],
   "source": [
    "diamonds.head()"
   ]
  },
  {
   "cell_type": "code",
   "execution_count": 65,
   "id": "e5978bf0",
   "metadata": {},
   "outputs": [
    {
     "data": {
      "text/plain": [
       "(53940, 10)"
      ]
     },
     "execution_count": 65,
     "metadata": {},
     "output_type": "execute_result"
    }
   ],
   "source": [
    "diamonds.shape"
   ]
  },
  {
   "cell_type": "code",
   "execution_count": 66,
   "id": "3a9e1934",
   "metadata": {},
   "outputs": [
    {
     "data": {
      "text/plain": [
       "carat      0\n",
       "cut        0\n",
       "color      0\n",
       "clarity    0\n",
       "depth      0\n",
       "table      0\n",
       "price      0\n",
       "x          0\n",
       "y          0\n",
       "z          0\n",
       "dtype: int64"
      ]
     },
     "execution_count": 66,
     "metadata": {},
     "output_type": "execute_result"
    }
   ],
   "source": [
    "diamonds.isnull().sum()"
   ]
  },
  {
   "cell_type": "code",
   "execution_count": 68,
   "id": "c93c7805",
   "metadata": {},
   "outputs": [
    {
     "data": {
      "text/plain": [
       "pandas.core.indexing._LocIndexer"
      ]
     },
     "execution_count": 68,
     "metadata": {},
     "output_type": "execute_result"
    }
   ],
   "source": [
    "type(diamonds.loc)"
   ]
  },
  {
   "cell_type": "code",
   "execution_count": 70,
   "id": "793f9a12",
   "metadata": {},
   "outputs": [
    {
     "data": {
      "text/plain": [
       "0.23"
      ]
     },
     "execution_count": 70,
     "metadata": {},
     "output_type": "execute_result"
    }
   ],
   "source": [
    "diamonds.loc[0, 'carat']"
   ]
  },
  {
   "cell_type": "code",
   "execution_count": 71,
   "id": "393709b9",
   "metadata": {},
   "outputs": [
    {
     "data": {
      "text/plain": [
       "0        0.23\n",
       "1        0.21\n",
       "2        0.23\n",
       "3        0.29\n",
       "4        0.31\n",
       "         ... \n",
       "53935    0.72\n",
       "53936    0.72\n",
       "53937    0.70\n",
       "53938    0.86\n",
       "53939    0.75\n",
       "Name: carat, Length: 53940, dtype: float64"
      ]
     },
     "execution_count": 71,
     "metadata": {},
     "output_type": "execute_result"
    }
   ],
   "source": [
    "diamonds.loc[:, 'carat']"
   ]
  },
  {
   "cell_type": "code",
   "execution_count": 73,
   "id": "36ae316b",
   "metadata": {},
   "outputs": [
    {
     "data": {
      "text/plain": [
       "0        0.23\n",
       "1        0.21\n",
       "2        0.23\n",
       "3        0.29\n",
       "4        0.31\n",
       "         ... \n",
       "53935    0.72\n",
       "53936    0.72\n",
       "53937    0.70\n",
       "53938    0.86\n",
       "53939    0.75\n",
       "Name: carat, Length: 53940, dtype: float64"
      ]
     },
     "execution_count": 73,
     "metadata": {},
     "output_type": "execute_result"
    }
   ],
   "source": [
    "diamonds['carat']"
   ]
  },
  {
   "cell_type": "code",
   "execution_count": 74,
   "id": "4ca8082c",
   "metadata": {},
   "outputs": [],
   "source": [
    "# 펜시 검색을 통해 데이터 프레임으로 반환"
   ]
  },
  {
   "cell_type": "code",
   "execution_count": 75,
   "id": "1ea95a22",
   "metadata": {},
   "outputs": [
    {
     "data": {
      "text/html": [
       "<div>\n",
       "<style scoped>\n",
       "    .dataframe tbody tr th:only-of-type {\n",
       "        vertical-align: middle;\n",
       "    }\n",
       "\n",
       "    .dataframe tbody tr th {\n",
       "        vertical-align: top;\n",
       "    }\n",
       "\n",
       "    .dataframe thead th {\n",
       "        text-align: right;\n",
       "    }\n",
       "</style>\n",
       "<table border=\"1\" class=\"dataframe\">\n",
       "  <thead>\n",
       "    <tr style=\"text-align: right;\">\n",
       "      <th></th>\n",
       "      <th>carat</th>\n",
       "    </tr>\n",
       "  </thead>\n",
       "  <tbody>\n",
       "    <tr>\n",
       "      <th>0</th>\n",
       "      <td>0.23</td>\n",
       "    </tr>\n",
       "    <tr>\n",
       "      <th>1</th>\n",
       "      <td>0.21</td>\n",
       "    </tr>\n",
       "    <tr>\n",
       "      <th>2</th>\n",
       "      <td>0.23</td>\n",
       "    </tr>\n",
       "    <tr>\n",
       "      <th>3</th>\n",
       "      <td>0.29</td>\n",
       "    </tr>\n",
       "    <tr>\n",
       "      <th>4</th>\n",
       "      <td>0.31</td>\n",
       "    </tr>\n",
       "    <tr>\n",
       "      <th>...</th>\n",
       "      <td>...</td>\n",
       "    </tr>\n",
       "    <tr>\n",
       "      <th>53935</th>\n",
       "      <td>0.72</td>\n",
       "    </tr>\n",
       "    <tr>\n",
       "      <th>53936</th>\n",
       "      <td>0.72</td>\n",
       "    </tr>\n",
       "    <tr>\n",
       "      <th>53937</th>\n",
       "      <td>0.70</td>\n",
       "    </tr>\n",
       "    <tr>\n",
       "      <th>53938</th>\n",
       "      <td>0.86</td>\n",
       "    </tr>\n",
       "    <tr>\n",
       "      <th>53939</th>\n",
       "      <td>0.75</td>\n",
       "    </tr>\n",
       "  </tbody>\n",
       "</table>\n",
       "<p>53940 rows × 1 columns</p>\n",
       "</div>"
      ],
      "text/plain": [
       "       carat\n",
       "0       0.23\n",
       "1       0.21\n",
       "2       0.23\n",
       "3       0.29\n",
       "4       0.31\n",
       "...      ...\n",
       "53935   0.72\n",
       "53936   0.72\n",
       "53937   0.70\n",
       "53938   0.86\n",
       "53939   0.75\n",
       "\n",
       "[53940 rows x 1 columns]"
      ]
     },
     "execution_count": 75,
     "metadata": {},
     "output_type": "execute_result"
    }
   ],
   "source": [
    "diamonds.loc[:, ['carat']]"
   ]
  },
  {
   "cell_type": "code",
   "execution_count": 76,
   "id": "4735a16b",
   "metadata": {},
   "outputs": [],
   "source": [
    "# 펜시 검색을 열 검색 조건임"
   ]
  },
  {
   "cell_type": "code",
   "execution_count": 78,
   "id": "b3bac69d",
   "metadata": {},
   "outputs": [
    {
     "data": {
      "text/html": [
       "<div>\n",
       "<style scoped>\n",
       "    .dataframe tbody tr th:only-of-type {\n",
       "        vertical-align: middle;\n",
       "    }\n",
       "\n",
       "    .dataframe tbody tr th {\n",
       "        vertical-align: top;\n",
       "    }\n",
       "\n",
       "    .dataframe thead th {\n",
       "        text-align: right;\n",
       "    }\n",
       "</style>\n",
       "<table border=\"1\" class=\"dataframe\">\n",
       "  <thead>\n",
       "    <tr style=\"text-align: right;\">\n",
       "      <th></th>\n",
       "      <th>carat</th>\n",
       "    </tr>\n",
       "  </thead>\n",
       "  <tbody>\n",
       "    <tr>\n",
       "      <th>0</th>\n",
       "      <td>0.23</td>\n",
       "    </tr>\n",
       "    <tr>\n",
       "      <th>1</th>\n",
       "      <td>0.21</td>\n",
       "    </tr>\n",
       "    <tr>\n",
       "      <th>2</th>\n",
       "      <td>0.23</td>\n",
       "    </tr>\n",
       "    <tr>\n",
       "      <th>3</th>\n",
       "      <td>0.29</td>\n",
       "    </tr>\n",
       "    <tr>\n",
       "      <th>4</th>\n",
       "      <td>0.31</td>\n",
       "    </tr>\n",
       "    <tr>\n",
       "      <th>...</th>\n",
       "      <td>...</td>\n",
       "    </tr>\n",
       "    <tr>\n",
       "      <th>53935</th>\n",
       "      <td>0.72</td>\n",
       "    </tr>\n",
       "    <tr>\n",
       "      <th>53936</th>\n",
       "      <td>0.72</td>\n",
       "    </tr>\n",
       "    <tr>\n",
       "      <th>53937</th>\n",
       "      <td>0.70</td>\n",
       "    </tr>\n",
       "    <tr>\n",
       "      <th>53938</th>\n",
       "      <td>0.86</td>\n",
       "    </tr>\n",
       "    <tr>\n",
       "      <th>53939</th>\n",
       "      <td>0.75</td>\n",
       "    </tr>\n",
       "  </tbody>\n",
       "</table>\n",
       "<p>53940 rows × 1 columns</p>\n",
       "</div>"
      ],
      "text/plain": [
       "       carat\n",
       "0       0.23\n",
       "1       0.21\n",
       "2       0.23\n",
       "3       0.29\n",
       "4       0.31\n",
       "...      ...\n",
       "53935   0.72\n",
       "53936   0.72\n",
       "53937   0.70\n",
       "53938   0.86\n",
       "53939   0.75\n",
       "\n",
       "[53940 rows x 1 columns]"
      ]
     },
     "execution_count": 78,
     "metadata": {},
     "output_type": "execute_result"
    }
   ],
   "source": [
    "diamonds[['carat']]"
   ]
  },
  {
   "cell_type": "code",
   "execution_count": 79,
   "id": "96824e32",
   "metadata": {},
   "outputs": [
    {
     "data": {
      "text/html": [
       "<div>\n",
       "<style scoped>\n",
       "    .dataframe tbody tr th:only-of-type {\n",
       "        vertical-align: middle;\n",
       "    }\n",
       "\n",
       "    .dataframe tbody tr th {\n",
       "        vertical-align: top;\n",
       "    }\n",
       "\n",
       "    .dataframe thead th {\n",
       "        text-align: right;\n",
       "    }\n",
       "</style>\n",
       "<table border=\"1\" class=\"dataframe\">\n",
       "  <thead>\n",
       "    <tr style=\"text-align: right;\">\n",
       "      <th></th>\n",
       "      <th>carat</th>\n",
       "      <th>cut</th>\n",
       "      <th>color</th>\n",
       "      <th>clarity</th>\n",
       "      <th>depth</th>\n",
       "      <th>table</th>\n",
       "      <th>price</th>\n",
       "      <th>x</th>\n",
       "      <th>y</th>\n",
       "      <th>z</th>\n",
       "    </tr>\n",
       "  </thead>\n",
       "  <tbody>\n",
       "    <tr>\n",
       "      <th>0</th>\n",
       "      <td>0.23</td>\n",
       "      <td>Ideal</td>\n",
       "      <td>E</td>\n",
       "      <td>SI2</td>\n",
       "      <td>61.5</td>\n",
       "      <td>55.0</td>\n",
       "      <td>326</td>\n",
       "      <td>3.95</td>\n",
       "      <td>3.98</td>\n",
       "      <td>2.43</td>\n",
       "    </tr>\n",
       "    <tr>\n",
       "      <th>1</th>\n",
       "      <td>0.21</td>\n",
       "      <td>Premium</td>\n",
       "      <td>E</td>\n",
       "      <td>SI1</td>\n",
       "      <td>59.8</td>\n",
       "      <td>61.0</td>\n",
       "      <td>326</td>\n",
       "      <td>3.89</td>\n",
       "      <td>3.84</td>\n",
       "      <td>2.31</td>\n",
       "    </tr>\n",
       "    <tr>\n",
       "      <th>2</th>\n",
       "      <td>0.23</td>\n",
       "      <td>Good</td>\n",
       "      <td>E</td>\n",
       "      <td>VS1</td>\n",
       "      <td>56.9</td>\n",
       "      <td>65.0</td>\n",
       "      <td>327</td>\n",
       "      <td>4.05</td>\n",
       "      <td>4.07</td>\n",
       "      <td>2.31</td>\n",
       "    </tr>\n",
       "    <tr>\n",
       "      <th>3</th>\n",
       "      <td>0.29</td>\n",
       "      <td>Premium</td>\n",
       "      <td>I</td>\n",
       "      <td>VS2</td>\n",
       "      <td>62.4</td>\n",
       "      <td>58.0</td>\n",
       "      <td>334</td>\n",
       "      <td>4.20</td>\n",
       "      <td>4.23</td>\n",
       "      <td>2.63</td>\n",
       "    </tr>\n",
       "    <tr>\n",
       "      <th>4</th>\n",
       "      <td>0.31</td>\n",
       "      <td>Good</td>\n",
       "      <td>J</td>\n",
       "      <td>SI2</td>\n",
       "      <td>63.3</td>\n",
       "      <td>58.0</td>\n",
       "      <td>335</td>\n",
       "      <td>4.34</td>\n",
       "      <td>4.35</td>\n",
       "      <td>2.75</td>\n",
       "    </tr>\n",
       "  </tbody>\n",
       "</table>\n",
       "</div>"
      ],
      "text/plain": [
       "   carat      cut color clarity  depth  table  price     x     y     z\n",
       "0   0.23    Ideal     E     SI2   61.5   55.0    326  3.95  3.98  2.43\n",
       "1   0.21  Premium     E     SI1   59.8   61.0    326  3.89  3.84  2.31\n",
       "2   0.23     Good     E     VS1   56.9   65.0    327  4.05  4.07  2.31\n",
       "3   0.29  Premium     I     VS2   62.4   58.0    334  4.20  4.23  2.63\n",
       "4   0.31     Good     J     SI2   63.3   58.0    335  4.34  4.35  2.75"
      ]
     },
     "execution_count": 79,
     "metadata": {},
     "output_type": "execute_result"
    }
   ],
   "source": [
    "diamonds.head()"
   ]
  },
  {
   "cell_type": "code",
   "execution_count": null,
   "id": "fe7f6689",
   "metadata": {},
   "outputs": [],
   "source": []
  }
 ],
 "metadata": {
  "kernelspec": {
   "display_name": "Python 3 (ipykernel)",
   "language": "python",
   "name": "python3"
  },
  "language_info": {
   "codemirror_mode": {
    "name": "ipython",
    "version": 3
   },
   "file_extension": ".py",
   "mimetype": "text/x-python",
   "name": "python",
   "nbconvert_exporter": "python",
   "pygments_lexer": "ipython3",
   "version": "3.9.13"
  }
 },
 "nbformat": 4,
 "nbformat_minor": 5
}
